{
 "cells": [
  {
   "cell_type": "code",
   "execution_count": 1,
   "metadata": {
    "collapsed": true
   },
   "outputs": [],
   "source": [
    "import openpyxl\n",
    "import math\n",
    "import sys"
   ]
  },
  {
   "cell_type": "code",
   "execution_count": 2,
   "outputs": [],
   "source": [
    "def load_data():\n",
    "    workbook=openpyxl.load_workbook('../data/Buildings.xlsx')\n",
    "    worksheet=workbook[\"Sheet1\"]\n",
    "    buildings=[]\n",
    "    for cell in list(worksheet.columns)[4][1:]:\n",
    "        start_POS = cell.value.find(\"POLYGON (\") + 10\n",
    "        end_POS = cell.value.find(\"))\")#获取第三列的数据\n",
    "        buildings_str=cell.value[start_POS:end_POS]\n",
    "        polygon = buildings_str.split(',')\n",
    "        buildings.append(polygon)\n",
    "    return buildings\n"
   ],
   "metadata": {
    "collapsed": false
   }
  },
  {
   "cell_type": "code",
   "execution_count": 3,
   "outputs": [],
   "source": [
    "#Task 1 Question 1\n",
    "def cal_mbr(polygon_list, point_min_x, point_min_y, point_max_x, point_max_y):\n",
    "    result=[]\n",
    "    index=[]\n",
    "    for polygon in polygon_list:\n",
    "        for polygon_point in polygon:\n",
    "            p_x, p_y = polygon_point.strip().split(\" \")\n",
    "            p_x = float(p_x)\n",
    "            p_y = float(p_y)\n",
    "            point_min_x = min(point_min_x, p_x)\n",
    "            point_min_y = min(point_min_y, p_y)\n",
    "            point_max_x = max(point_max_x, p_x)\n",
    "            point_max_y = max(point_max_y, p_y)\n",
    "        result.append(\"(\" + str(point_min_x) + \",\" + str(point_min_y) + \")\" + \", \" + (\"(\" + str(point_max_x) + \",\" + str(point_max_y) + \")\"))\n",
    "    return point_min_x, point_min_y, point_max_x, point_max_y, result"
   ],
   "metadata": {
    "collapsed": false
   }
  },
  {
   "cell_type": "code",
   "execution_count": 8,
   "outputs": [
    {
     "name": "stdout",
     "output_type": "stream",
     "text": [
      "Polygon  0  MBR:  (113.9408324,22.3197268), (113.945664,22.3231501)\n",
      "Polygon  1  MBR:  (113.9336246,22.3193894), (113.945664,22.3231501)\n",
      "Polygon  2  MBR:  (113.9332196,22.298128), (113.945664,22.3231501)\n",
      "Polygon  3  MBR:  (113.9332196,22.2849925), (114.1596019,22.3231501)\n",
      "Polygon  4  MBR:  (113.9332196,22.2849925), (114.1606163,22.3231501)\n",
      "Polygon  5  MBR:  (113.9332196,22.2789815), (114.1619235,22.3231501)\n",
      "Polygon  6  MBR:  (113.9332196,22.2789815), (114.1619235,22.3231501)\n",
      "Polygon  7  MBR:  (113.9332196,22.2789815), (114.1619235,22.3231501)\n",
      "Polygon  8  MBR:  (113.9332196,22.2789815), (114.1619235,22.4253488)\n",
      "Polygon  9  MBR:  (113.9332196,22.2789815), (114.1619235,22.4496293)\n"
     ]
    }
   ],
   "source": [
    "polygon_list=load_data()\n",
    "max_value = 1e12\n",
    "min_value = -1e12\n",
    "min_x, min_y, max_x, max_y, MBR=cal_mbr(polygon_list,max_value,max_value,min_value,min_value)\n",
    "for i in range(10):\n",
    "    print(\"Polygon \",i,\" MBR: \",MBR[i])"
   ],
   "metadata": {
    "collapsed": false
   }
  },
  {
   "cell_type": "code",
   "execution_count": null,
   "outputs": [],
   "source": [
    "#Task 1 Question 2\n"
   ],
   "metadata": {
    "collapsed": false
   }
  },
  {
   "cell_type": "code",
   "execution_count": null,
   "outputs": [],
   "source": [],
   "metadata": {
    "collapsed": false
   }
  }
 ],
 "metadata": {
  "kernelspec": {
   "display_name": "Python 3",
   "language": "python",
   "name": "python3"
  },
  "language_info": {
   "codemirror_mode": {
    "name": "ipython",
    "version": 2
   },
   "file_extension": ".py",
   "mimetype": "text/x-python",
   "name": "python",
   "nbconvert_exporter": "python",
   "pygments_lexer": "ipython2",
   "version": "2.7.6"
  }
 },
 "nbformat": 4,
 "nbformat_minor": 0
}
