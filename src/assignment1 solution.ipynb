{
 "cells": [
  {
   "cell_type": "markdown",
   "source": [
    "Import Library and data"
   ],
   "metadata": {
    "collapsed": false
   }
  },
  {
   "cell_type": "code",
   "execution_count": null,
   "outputs": [],
   "source": [
    "import openpyxl\n",
    "import copy\n",
    "from openpyxl.utils import get_column_letter\n",
    "from geopy.distance import geodesic"
   ],
   "metadata": {
    "collapsed": false
   }
  },
  {
   "cell_type": "code",
   "execution_count": 2,
   "outputs": [],
   "source": [
    "path = \"../data/Buildings.xlsx\"\n",
    "def load_data():\n",
    "    workbook=openpyxl.load_workbook(path)\n",
    "    worksheet=workbook[\"Sheet1\"]\n",
    "    buildings=[]\n",
    "    for cell in list(worksheet.columns)[4][1:]:\n",
    "        start_POS = cell.value.find(\"POLYGON (\") + 10\n",
    "        end_POS = cell.value.find(\"))\")#获取第三列的数据\n",
    "        buildings_str=cell.value[start_POS:end_POS]\n",
    "        polygon = buildings_str.split(',')\n",
    "        buildings.append(polygon)\n",
    "    workbook.close()\n",
    "    return buildings\n",
    "\n",
    "polygon_list=load_data()"
   ],
   "metadata": {
    "collapsed": false
   }
  },
  {
   "cell_type": "markdown",
   "source": [
    "Task1 Q1.Write a program to compute the spatial extent of dataset D. The spatial extent of D is the MBR of all polygons in D. Report the MBR of D."
   ],
   "metadata": {
    "collapsed": false
   }
  },
  {
   "cell_type": "code",
   "execution_count": 3,
   "outputs": [],
   "source": [
    "#Task 1 Question 1\n",
    "def cal_mbr(polygon_list, point_min_x, point_min_y, point_max_x, point_max_y):\n",
    "    result=[]\n",
    "    index=[]\n",
    "    for polygon in polygon_list:\n",
    "        for polygon_point in polygon:\n",
    "            p_x, p_y = polygon_point.strip().split(\" \")\n",
    "            p_x = float(p_x)\n",
    "            p_y = float(p_y)\n",
    "            point_min_x = min(point_min_x, p_x)\n",
    "            point_min_y = min(point_min_y, p_y)\n",
    "            point_max_x = max(point_max_x, p_x)\n",
    "            point_max_y = max(point_max_y, p_y)\n",
    "        result.append(\"(\" + str(point_min_x) + \",\" + str(point_min_y) + \")\" + \", \" + (\"(\" + str(point_max_x) + \",\" + str(point_max_y) + \")\"))\n",
    "    return point_min_x, point_min_y, point_max_x, point_max_y, result"
   ],
   "metadata": {
    "collapsed": false
   }
  },
  {
   "cell_type": "code",
   "execution_count": 4,
   "outputs": [
    {
     "name": "stdout",
     "output_type": "stream",
     "text": [
      "MBR of all Polygons is 113.9310037, 22.1973011 114.3763554, 22.5069962\n"
     ]
    }
   ],
   "source": [
    "max_value = 1e12\n",
    "min_value = -1e12\n",
    "min_x, min_y, max_x, max_y, MBR=cal_mbr(polygon_list,max_value,max_value,min_value,min_value)\n",
    "print(\"MBR of all Polygons is \" + str(min_x) + \", \" + str(min_y) + \" \" + str(max_x) + \", \" + str(max_y))"
   ],
   "metadata": {
    "collapsed": false
   }
  },
  {
   "cell_type": "markdown",
   "source": [
    "Task1 Q2. Create dataset D’ which adds an MBR column for the polygon in each record in D. Output the spreadsheet file for the new dataset D’."
   ],
   "metadata": {
    "collapsed": false
   }
  },
  {
   "cell_type": "code",
   "execution_count": 5,
   "outputs": [
    {
     "name": "stdout",
     "output_type": "stream",
     "text": [
      "Sheet1\n",
      "Copy done.\n",
      "Insert done.\n"
     ]
    }
   ],
   "source": [
    "#Task 1 Question 2\n",
    "mbr_path = \"../data/Buildings_MBR.xlsx\"\n",
    "def copy_xslx(source,dest):\n",
    "    wb = openpyxl.load_workbook(source)\n",
    "    wb2 = openpyxl.Workbook()\n",
    "    sheetnames = wb.sheetnames\n",
    "    for sheetname in sheetnames:\n",
    "        print(sheetname)\n",
    "        sheet = wb[sheetname]\n",
    "        sheet2 = wb2.create_sheet(sheetname)\n",
    "        sheet2.sheet_properties.tabColor = sheet.sheet_properties.tabColor\n",
    "        wm = list(sheet.merged_cells)\n",
    "        if len(wm) > 0:\n",
    "            for i in range(0, len(wm)):\n",
    "                cell2 = str(wm[i]).replace('(<CellRange ', '').replace('>,)', '')\n",
    "                sheet2.merge_cells(cell2)\n",
    "        for i, row in enumerate(sheet.iter_rows()):\n",
    "            sheet2.row_dimensions[i+1].height = sheet.row_dimensions[i+1].height\n",
    "            for j, cell in enumerate(row):\n",
    "                sheet2.column_dimensions[get_column_letter(j+1)].width = sheet.column_dimensions[get_column_letter(j+1)].width+1\n",
    "                sheet2.cell(row=i + 1, column=j + 1, value=cell.value)\n",
    "                source_cell = sheet.cell(i+1, j+1)\n",
    "                target_cell = sheet2.cell(i+1, j+1)\n",
    "                target_cell.fill = copy.copy(source_cell.fill)\n",
    "                # if source_cell.has_style:\n",
    "                #     target_cell._style = copy.copy(source_cell._style)\n",
    "                #     target_cell.font = copy.copy(source_cell.font)\n",
    "                #     target_cell.border = copy.copy(source_cell.border)\n",
    "                #     target_cell.fill = copy.copy(source_cell.fill)\n",
    "                #     target_cell.number_format = copy.copy(source_cell.number_format)\n",
    "                #     target_cell.protection = copy.copy(source_cell.protection)\n",
    "                #     target_cell.alignment = copy.copy(source_cell.alignment)\n",
    "    if 'Sheet' in wb2.sheetnames:\n",
    "        del wb2['Sheet']\n",
    "    wb2.save(dest)\n",
    "    wb.close()\n",
    "    wb2.close()\n",
    "    print('Copy done.')\n",
    "def add_col(data,dest):\n",
    "    data_sheet = openpyxl.load_workbook(dest)\n",
    "    booksheet = data_sheet.worksheets[0]\n",
    "    for i, row in enumerate(booksheet.iter_rows()):\n",
    "        if i==0:\n",
    "            booksheet.cell(row=i + 1, column=6, value=\"MBR\")\n",
    "        else:\n",
    "            booksheet.cell(row=i + 1, column=6, value=data[i-1])\n",
    "    data_sheet.save(dest)\n",
    "    data_sheet.close()\n",
    "    print('Insert done.')\n",
    "copy_xslx(path,mbr_path)\n",
    "add_col(MBR,mbr_path)"
   ],
   "metadata": {
    "collapsed": false
   }
  },
  {
   "cell_type": "markdown",
   "source": [
    "Task1 Q3.  Let n be the resolution for recursive decomposition of the space as defined by the spatial extent of D. What are the sizes (in cm by cm) of the smallest Peano cells for n= 16, 23 and 28 respectively? Show your calculation steps. Please also discuss which resolution value is suitable for D."
   ],
   "metadata": {
    "collapsed": false
   }
  },
  {
   "cell_type": "code",
   "execution_count": 23,
   "outputs": [],
   "source": [
    "# Task 1 Question 3\n",
    "def cal_dist( min_x, min_y, max_x, max_y):\n",
    "    x_dist= geodesic((min_y,min_x), (min_y,max_x)).m*100 #convert to cm\n",
    "    y_dist = geodesic((min_y,min_x), (max_y,min_x)).m*100 #convert to cm\n",
    "    return x_dist,y_dist\n",
    "def cal_peano(n, x_dist,y_dist):\n",
    "    smallest_peano=(x_dist / 2**n) * (y_dist / 2**n)\n",
    "    return smallest_peano"
   ],
   "metadata": {
    "collapsed": false
   }
  },
  {
   "cell_type": "code",
   "execution_count": 25,
   "outputs": [
    {
     "name": "stdout",
     "output_type": "stream",
     "text": [
      "x:  4592407.166791219  y:  3429410.4542472675\n",
      "When n = 16, the cell_size is 3666.90781618326\n",
      "When n = 23, the cell_size is 0.22381029151509155\n",
      "When n = 28, the cell_size is 0.0002185647378077066\n"
     ]
    }
   ],
   "source": [
    "x_dist,y_dist=cal_dist( min_x, min_y, max_x, max_y)\n",
    "print(\"x: \",x_dist,\" y: \",y_dist)\n",
    "cell_size_16 = cal_peano(16, x_dist,y_dist)\n",
    "print(\"When n = 16, the cell_size is \" + str(cell_size_16))\n",
    "cell_size_23 = cal_peano(23, x_dist,y_dist)\n",
    "print(\"When n = 23, the cell_size is \" + str(cell_size_23))\n",
    "cell_size_28 = cal_peano(28, x_dist,y_dist)\n",
    "print(\"When n = 28, the cell_size is \" + str(cell_size_28))"
   ],
   "metadata": {
    "collapsed": false
   }
  },
  {
   "cell_type": "markdown",
   "source": [
    "The most suitable resolution among the above options is 23. When n=16, the precision is not enough, it may be more than 1000 cm. For n=23, the precision is enough to use, only no more than 1 cm. For n=28, the resolution is too high, it needs a lot of computing resources, which is a waste."
   ],
   "metadata": {
    "collapsed": false
   }
  },
  {
   "cell_type": "markdown",
   "source": [
    "Task 2 Write a program to generate the base-5 z-value for each polygon, for n = 16, 23 and 28 respectively. We use only one z-value for each object based on its MBR. Add three columns of z-values to D’ for these three different resolution levels. Output the spreadsheet file with the new columns."
   ],
   "metadata": {
    "collapsed": false
   }
  },
  {
   "cell_type": "code",
   "execution_count": null,
   "outputs": [],
   "source": [
    "# Task 2\n"
   ],
   "metadata": {
    "collapsed": false
   }
  }
 ],
 "metadata": {
  "kernelspec": {
   "display_name": "Python 3",
   "language": "python",
   "name": "python3"
  },
  "language_info": {
   "codemirror_mode": {
    "name": "ipython",
    "version": 2
   },
   "file_extension": ".py",
   "mimetype": "text/x-python",
   "name": "python",
   "nbconvert_exporter": "python",
   "pygments_lexer": "ipython2",
   "version": "2.7.6"
  }
 },
 "nbformat": 4,
 "nbformat_minor": 0
}
