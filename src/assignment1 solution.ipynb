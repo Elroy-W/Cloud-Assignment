{
 "cells": [
  {
   "cell_type": "markdown",
   "source": [
    "WANG Enrui 20906987"
   ],
   "metadata": {
    "collapsed": false
   }
  },
  {
   "cell_type": "markdown",
   "source": [
    "Import Library and data"
   ],
   "metadata": {
    "collapsed": false
   }
  },
  {
   "cell_type": "code",
   "execution_count": 1,
   "outputs": [],
   "source": [
    "import openpyxl\n",
    "from geopy.distance import geodesic\n",
    "import random"
   ],
   "metadata": {
    "collapsed": false
   }
  },
  {
   "cell_type": "code",
   "execution_count": 2,
   "outputs": [],
   "source": [
    "path = \"../data/Buildings.xlsx\"\n",
    "def load_data():\n",
    "    workbook=openpyxl.load_workbook(path)\n",
    "    worksheet=workbook[\"Sheet1\"]\n",
    "    buildings=[]\n",
    "    for cell in list(worksheet.columns)[4][1:]:\n",
    "        start_POS = cell.value.find(\"POLYGON (\") + 10\n",
    "        end_POS = cell.value.find(\"))\")#获取第三列的数据\n",
    "        buildings_str=cell.value[start_POS:end_POS]\n",
    "        polygon = buildings_str.split(',')\n",
    "        buildings.append(polygon)\n",
    "    workbook.close()\n",
    "    return buildings\n",
    "polygon_list=load_data()"
   ],
   "metadata": {
    "collapsed": false
   }
  },
  {
   "cell_type": "code",
   "execution_count": 3,
   "outputs": [],
   "source": [
    "class MBR:\n",
    "    def __init__(self, x_min, y_min, x_max, y_max):\n",
    "        self.x_min = x_min\n",
    "        self.y_min = y_min\n",
    "        self.x_max = x_max\n",
    "        self.y_max = y_max\n",
    "\n",
    "    def __repr__(self):\n",
    "        result = \"(\"+str( self.x_min)+\", \" + str(self.y_min) + \", \" + str(self.x_max) + \", \" + str(self.y_max)+\")\"\n",
    "        return result"
   ],
   "metadata": {
    "collapsed": false
   }
  },
  {
   "cell_type": "markdown",
   "source": [
    "**Task1 Q1** Write a program to compute the spatial extent of dataset D. The spatial extent of D is the MBR of all polygons in D. Report the MBR of D."
   ],
   "metadata": {
    "collapsed": false
   }
  },
  {
   "cell_type": "code",
   "execution_count": 4,
   "outputs": [],
   "source": [
    "#Task 1 Question 1\n",
    "def cal_mbr(polygon):\n",
    "    local_min_x=float(\"inf\")\n",
    "    local_min_y=float(\"inf\")\n",
    "    local_max_x=float(\"-inf\")\n",
    "    local_max_y=float(\"-inf\")\n",
    "    for polygon_point in polygon:\n",
    "            p_x, p_y = polygon_point.strip().split(\" \")\n",
    "            p_x = float(p_x)\n",
    "            p_y = float(p_y)\n",
    "            local_min_x = min(local_min_x, p_x)\n",
    "            local_min_y = min(local_min_y, p_y)\n",
    "            local_max_x = max(local_max_x, p_x)\n",
    "            local_max_y = max(local_max_y, p_y)\n",
    "    result=MBR(local_min_x, local_min_y, local_max_x,local_max_y)\n",
    "    return result\n",
    "def cal_mbr_for_all(polygon_list_t):\n",
    "    MBR_List_t=[]\n",
    "    point_min_x=float(\"inf\")\n",
    "    point_min_y=float(\"inf\")\n",
    "    point_max_x=float(\"-inf\")\n",
    "    point_max_y=float(\"-inf\")\n",
    "    for polygon in polygon_list_t:\n",
    "        temp = cal_mbr(polygon)\n",
    "        MBR_List_t.append(temp)\n",
    "        point_min_x = min(point_min_x, temp.x_min)\n",
    "        point_min_y = min(point_min_y, temp.y_min)\n",
    "        point_max_x = max(point_max_x, temp.x_max)\n",
    "        point_max_y = max(point_max_y, temp.y_max)\n",
    "    MBR_for_all_t=MBR(point_min_x, point_min_y, point_max_x,point_max_y)\n",
    "    return MBR_for_all_t, MBR_List_t"
   ],
   "metadata": {
    "collapsed": false
   }
  },
  {
   "cell_type": "code",
   "execution_count": 5,
   "outputs": [
    {
     "name": "stdout",
     "output_type": "stream",
     "text": [
      "MBR of all Polygons is (113.9310037, 22.1973011, 114.3763554, 22.5069962)\n"
     ]
    }
   ],
   "source": [
    "MBR_for_all, MBR_result=cal_mbr_for_all(polygon_list)\n",
    "print(\"MBR of all Polygons is \" +str(MBR_for_all))"
   ],
   "metadata": {
    "collapsed": false
   }
  },
  {
   "cell_type": "markdown",
   "source": [
    "**Task1 Q2** Create dataset D’ which adds an MBR column for the polygon in each record in D. Output the spreadsheet file for the new dataset D’."
   ],
   "metadata": {
    "collapsed": false
   }
  },
  {
   "cell_type": "code",
   "execution_count": 6,
   "outputs": [],
   "source": [
    "# import copy\n",
    "# from openpyxl.utils import get_column_letter\n",
    "# def copy_xlsx(source,dest):\n",
    "#     wb = openpyxl.load_workbook(source)\n",
    "#     wb2 = openpyxl.Workbook()\n",
    "#     sheetnames = wb.sheetnames\n",
    "#     for sheetname in sheetnames:\n",
    "#         print(sheetname)\n",
    "#         sheet = wb[sheetname]\n",
    "#         sheet2 = wb2.create_sheet(sheetname)\n",
    "#         sheet2.sheet_properties.tabColor = sheet.sheet_properties.tabColor\n",
    "#         wm = list(sheet.merged_cells)\n",
    "#         if len(wm) > 0:\n",
    "#             for i in range(0, len(wm)):\n",
    "#                 cell2 = str(wm[i]).replace('(<CellRange ', '').replace('>,)', '')\n",
    "#                 sheet2.merge_cells(cell2)\n",
    "#         for i, row in enumerate(sheet.iter_rows()):\n",
    "#             sheet2.row_dimensions[i+1].height = sheet.row_dimensions[i+1].height\n",
    "#             for j, cell in enumerate(row):\n",
    "#                 sheet2.column_dimensions[get_column_letter(j+1)].width = sheet.column_dimensions[get_column_letter(j+1)].width\n",
    "#                 sheet2.cell(row=i + 1, column=j + 1, value=cell.value)\n",
    "#                 source_cell = sheet.cell(i+1, j+1)\n",
    "#                 target_cell = sheet2.cell(i+1, j+1)\n",
    "#                 target_cell.fill = copy.copy(source_cell.fill)\n",
    "#                 if source_cell.has_style:\n",
    "#                     target_cell._style = copy.copy(source_cell._style)\n",
    "#                     target_cell.font = copy.copy(source_cell.font)\n",
    "#                     target_cell.border = copy.copy(source_cell.border)\n",
    "#                     target_cell.fill = copy.copy(source_cell.fill)\n",
    "#                     target_cell.number_format = copy.copy(source_cell.number_format)\n",
    "#                     target_cell.protection = copy.copy(source_cell.protection)\n",
    "#                     target_cell.alignment = copy.copy(source_cell.alignment)\n",
    "#     if 'Sheet' in wb2.sheetnames:\n",
    "#         del wb2['Sheet']\n",
    "#     wb2.save(dest)\n",
    "#     wb.close()\n",
    "#     wb2.close()\n",
    "#     print('Copy done.')\n",
    "# mbr_path = \"../data/Buildings_MBR.xlsx\"\n",
    "# copy_xlsx(path,mbr_path)"
   ],
   "metadata": {
    "collapsed": false
   }
  },
  {
   "cell_type": "code",
   "execution_count": 7,
   "outputs": [
    {
     "name": "stdout",
     "output_type": "stream",
     "text": [
      "Insert done.\n"
     ]
    }
   ],
   "source": [
    "#Task 1 Question 2\n",
    "def add_col(data,dest,tag,col):\n",
    "    data_sheet = openpyxl.load_workbook(dest)\n",
    "    booksheet = data_sheet.worksheets[0]\n",
    "    for i, row in enumerate(booksheet.iter_rows()):\n",
    "        if i==0:\n",
    "            booksheet.cell(row=i + 1, column=col, value=tag)\n",
    "        else:\n",
    "            booksheet.cell(row=i + 1, column=col, value=str(data[i-1]))\n",
    "    data_sheet.save(dest)\n",
    "    data_sheet.close()\n",
    "    print('Insert done.')\n",
    "add_col(MBR_result,path,\"MBR\",6)"
   ],
   "metadata": {
    "collapsed": false
   }
  },
  {
   "cell_type": "markdown",
   "source": [
    "**Task1 Q3**  Let n be the resolution for recursive decomposition of the space as defined by the spatial extent of D. What are the sizes (in cm by cm) of the smallest Peano cells for n= 16, 23 and 28 respectively? Show your calculation steps. Please also discuss which resolution value is suitable for D."
   ],
   "metadata": {
    "collapsed": false
   }
  },
  {
   "cell_type": "code",
   "execution_count": 8,
   "outputs": [],
   "source": [
    "# Task 1 Question 3\n",
    "def cal_dist(min_x, min_y, max_x, max_y):\n",
    "    x_dist= geodesic((min_y,min_x), (min_y,max_x)).m*100 #convert to cm\n",
    "    y_dist = geodesic((min_y,min_x), (max_y,min_x)).m*100 #convert to cm\n",
    "    return x_dist,y_dist\n",
    "def cal_smallest_peano(n, x_dist,y_dist):\n",
    "    x=x_dist / 2**n\n",
    "    y=y_dist / 2**n\n",
    "    return x,y"
   ],
   "metadata": {
    "collapsed": false
   }
  },
  {
   "cell_type": "code",
   "execution_count": 9,
   "outputs": [
    {
     "name": "stdout",
     "output_type": "stream",
     "text": [
      "x:  4592407.166791219  y:  3429410.4542472675\n",
      "When n = 12, the x for smallest peano is: 1121.1931559548875 , y is 837.2584116814618\n",
      "When n = 16, the x for smallest peano is: 70.07457224718047 , y is 52.32865073009136\n",
      "When n = 20, the x for smallest peano is: 4.379660765448779 , y is 3.27054067063071\n"
     ]
    }
   ],
   "source": [
    "x_dist,y_dist=cal_dist(MBR_for_all.x_min,MBR_for_all.y_min,MBR_for_all.x_max,MBR_for_all.y_max)\n",
    "print(\"x: \",x_dist,\" y: \",y_dist)\n",
    "x_12,y_12 = cal_smallest_peano(12, x_dist,y_dist)\n",
    "print(\"When n = 12, the x for smallest peano is: \" + str(x_12),\", y is\",str(y_12))\n",
    "x_16,y_16 = cal_smallest_peano(16, x_dist,y_dist)\n",
    "print(\"When n = 16, the x for smallest peano is: \" + str(x_16),\", y is\",str(y_16))\n",
    "x_20,y_20 = cal_smallest_peano(20, x_dist,y_dist)\n",
    "print(\"When n = 20, the x for smallest peano is: \" + str(x_20),\", y is\",str(y_20))\n"
   ],
   "metadata": {
    "collapsed": false
   }
  },
  {
   "cell_type": "markdown",
   "source": [],
   "metadata": {
    "collapsed": false
   }
  },
  {
   "cell_type": "markdown",
   "source": [
    "**Task 2 Q1** Write a program to generate the base-5 z-value for each polygon, for n = 16, 23 and 28 respectively. We use only one z-value for each object based on its MBR. Add three columns of z-values to D’ for these three different resolution levels. Output the spreadsheet file with the new columns."
   ],
   "metadata": {
    "collapsed": false
   }
  },
  {
   "cell_type": "code",
   "execution_count": 10,
   "outputs": [],
   "source": [
    "# Task 2 Question 1\n",
    "def cal_z_value(resolution_level, mbr_t):\n",
    "    level = 0\n",
    "    local_x_min =MBR_for_all.x_min\n",
    "    local_y_min = MBR_for_all.y_min\n",
    "    local_x_max = MBR_for_all.x_max\n",
    "    local_y_max = MBR_for_all.y_max\n",
    "    z_value=\"1\"#leading \"1\" stands for the whole space\n",
    "\n",
    "    while level < resolution_level :\n",
    "        y_mid = local_y_min+((local_y_max - local_y_min) / 2)\n",
    "        x_mid = local_x_min+((local_x_max - local_x_min) / 2)\n",
    "        if mbr_t.y_max <= y_mid and mbr_t.y_min >=local_y_min and mbr_t.x_max <= x_mid and mbr_t.x_min>=local_x_min:\n",
    "            z_value += \"1\"\n",
    "            local_y_max = y_mid\n",
    "            local_x_max = x_mid\n",
    "        elif mbr_t.y_max <= local_y_max and mbr_t.y_min >= y_mid and mbr_t.x_max <= x_mid and mbr_t.x_min>=local_x_min:\n",
    "            z_value += \"2\"\n",
    "            local_y_min = y_mid\n",
    "            local_x_max = x_mid\n",
    "        elif mbr_t.y_max <= y_mid and mbr_t.y_min >=local_y_min and mbr_t.x_max <= local_x_max and mbr_t.x_min >= x_mid:\n",
    "            z_value += \"3\"\n",
    "            local_x_min = x_mid\n",
    "            local_y_max = y_mid\n",
    "        elif mbr_t.y_max <= local_y_max and mbr_t.y_min >= y_mid and mbr_t.x_max <= local_x_max and mbr_t.x_min >= x_mid:\n",
    "            z_value += \"4\"\n",
    "            local_y_min = y_mid\n",
    "            local_x_min = x_mid\n",
    "        else:\n",
    "            break\n",
    "        level +=  1\n",
    "    while level < resolution_level :\n",
    "        z_value += \"0\"\n",
    "        level +=  1\n",
    "    return z_value"
   ],
   "metadata": {
    "collapsed": false
   }
  },
  {
   "cell_type": "code",
   "execution_count": 11,
   "outputs": [
    {
     "name": "stdout",
     "output_type": "stream",
     "text": [
      "Insert done.\n",
      "Insert done.\n",
      "Insert done.\n"
     ]
    }
   ],
   "source": [
    "z_value_12 = []\n",
    "z_value_16 = []\n",
    "z_value_20 = []\n",
    "for mbr in MBR_result:\n",
    "    z_value_12.append(cal_z_value(12,mbr))\n",
    "    z_value_16.append(cal_z_value(16,mbr))\n",
    "    z_value_20.append(cal_z_value(20,mbr))\n",
    "\n",
    "add_col(z_value_12,path,\"Z-value 12\",7)\n",
    "add_col(z_value_16,path,\"Z-value 16\",8)\n",
    "add_col(z_value_20,path,\"Z-value 20\",9)"
   ],
   "metadata": {
    "collapsed": false
   }
  },
  {
   "cell_type": "markdown",
   "source": [
    "**Task 2 Q2** For each object, compare the sizes of the Peano cells for the same object using the above 3 resolution numbers and analyze your findings. Remember that the Peano cells for an object should be as tight as possible. Your discussions should reveal insights about choosing the proper resolution level for an application. If you see any issues with using just one z-value for one object, discuss possible solutions.\n"
   ],
   "metadata": {
    "collapsed": false
   }
  },
  {
   "cell_type": "code",
   "execution_count": 12,
   "outputs": [
    {
     "name": "stdout",
     "output_type": "stream",
     "text": [
      "Peano for Polygon  19255  is different for 12 and 16\n",
      "Peano for Polygon  19255  is different for 12 and 20\n",
      "Peano for Polygon  22144  is different for 12 and 16\n",
      "Peano for Polygon  22144  is different for 12 and 20\n",
      "Peano for Polygon  22259  is different for 12 and 16\n",
      "Peano for Polygon  22259  is different for 12 and 20\n",
      "Peano for Polygon  22882  is different for 12 and 16\n",
      "Peano for Polygon  22882  is different for 12 and 20\n",
      "Peano for Polygon  26036  is different for 12 and 16\n",
      "Peano for Polygon  26036  is different for 12 and 20\n",
      "Peano for Polygon  26037  is different for 12 and 16\n",
      "Peano for Polygon  26037  is different for 12 and 20\n",
      "Peano for Polygon  30369  is different for 12 and 16\n",
      "Peano for Polygon  30369  is different for 12 and 20\n",
      "Peano for Polygon  30448  is different for 12 and 16\n",
      "Peano for Polygon  30448  is different for 12 and 20\n",
      "Peano for Polygon  31133  is different for 12 and 16\n",
      "Peano for Polygon  31133  is different for 12 and 20\n",
      "Peano for Polygon  31239  is different for 12 and 16\n",
      "Peano for Polygon  31239  is different for 12 and 20\n",
      "Peano for Polygon  32780  is different for 12 and 16\n",
      "Peano for Polygon  32780  is different for 12 and 20\n",
      "Peano for Polygon  32839  is different for 12 and 16\n",
      "Peano for Polygon  32839  is different for 12 and 20\n",
      "Peano for Polygon  32909  is different for 12 and 16\n",
      "Peano for Polygon  32909  is different for 12 and 20\n",
      "Peano for Polygon  32918  is different for 12 and 16\n",
      "Peano for Polygon  32918  is different for 12 and 20\n",
      "Peano for Polygon  32979  is different for 12 and 16\n",
      "Peano for Polygon  32979  is different for 12 and 20\n",
      "Peano for Polygon  32983  is different for 12 and 16\n",
      "Peano for Polygon  32983  is different for 12 and 20\n",
      "Peano for Polygon  33500  is different for 12 and 16\n",
      "Peano for Polygon  33500  is different for 12 and 20\n",
      "Peano for Polygon  33578  is different for 12 and 16\n",
      "Peano for Polygon  33578  is different for 12 and 20\n",
      "Peano for Polygon  33642  is different for 12 and 16\n",
      "Peano for Polygon  33642  is different for 12 and 20\n",
      "Peano for Polygon  33950  is different for 12 and 16\n",
      "Peano for Polygon  33950  is different for 12 and 20\n",
      "Peano for Polygon  34304  is different for 12 and 16\n",
      "Peano for Polygon  34304  is different for 12 and 20\n",
      "Peano for Polygon  34915  is different for 12 and 16\n",
      "Peano for Polygon  34915  is different for 12 and 20\n",
      "Peano for Polygon  35219  is different for 12 and 16\n",
      "Peano for Polygon  35219  is different for 12 and 20\n",
      "Peano for Polygon  35270  is different for 12 and 16\n",
      "Peano for Polygon  35270  is different for 12 and 20\n",
      "Peano for Polygon  35728  is different for 12 and 16\n",
      "Peano for Polygon  35728  is different for 12 and 20\n",
      "Peano for Polygon  35881  is different for 12 and 16\n",
      "Peano for Polygon  35881  is different for 12 and 20\n",
      "Peano for Polygon  40833  is different for 12 and 16\n",
      "Peano for Polygon  40833  is different for 12 and 20\n",
      "Peano for Polygon  40903  is different for 12 and 16\n",
      "Peano for Polygon  40903  is different for 12 and 20\n",
      "Peano for Polygon  40904  is different for 12 and 16\n",
      "Peano for Polygon  40904  is different for 12 and 20\n",
      "Peano for Polygon  41222  is different for 12 and 16\n",
      "Peano for Polygon  41222  is different for 12 and 20\n",
      "Peano for Polygon  48652  is different for 12 and 16\n",
      "Peano for Polygon  48652  is different for 12 and 20\n",
      "Peano for Polygon  49625  is different for 12 and 16\n",
      "Peano for Polygon  49625  is different for 12 and 20\n",
      "Peano for Polygon  49649  is different for 12 and 16\n",
      "Peano for Polygon  49649  is different for 12 and 20\n",
      "Peano for Polygon  49880  is different for 12 and 16\n",
      "Peano for Polygon  49880  is different for 12 and 20\n",
      "Peano for Polygon  50294  is different for 12 and 16\n",
      "Peano for Polygon  50294  is different for 12 and 20\n",
      "Peano for Polygon  50296  is different for 12 and 16\n",
      "Peano for Polygon  50296  is different for 12 and 20\n",
      "Peano for Polygon  52371  is different for 12 and 16\n",
      "Peano for Polygon  52371  is different for 12 and 20\n",
      "Peano for Polygon  52996  is different for 12 and 16\n",
      "Peano for Polygon  52996  is different for 12 and 20\n",
      "Peano for Polygon  53342  is different for 12 and 16\n",
      "Peano for Polygon  53342  is different for 12 and 20\n",
      "Peano for Polygon  53568  is different for 12 and 16\n",
      "Peano for Polygon  53568  is different for 12 and 20\n",
      "Peano for Polygon  55310  is different for 12 and 16\n",
      "Peano for Polygon  55310  is different for 12 and 20\n",
      "Peano for Polygon  55313  is different for 12 and 16\n",
      "Peano for Polygon  55313  is different for 12 and 20\n",
      "Peano for Polygon  55345  is different for 12 and 16\n",
      "Peano for Polygon  55345  is different for 12 and 20\n",
      "Peano for Polygon  55348  is different for 12 and 16\n",
      "Peano for Polygon  55348  is different for 12 and 20\n",
      "Peano for Polygon  55357  is different for 12 and 16\n",
      "Peano for Polygon  55357  is different for 12 and 20\n",
      "Peano for Polygon  55438  is different for 12 and 16\n",
      "Peano for Polygon  55438  is different for 12 and 20\n",
      "Peano for Polygon  56472  is different for 12 and 16\n",
      "Peano for Polygon  56472  is different for 12 and 20\n",
      "Peano for Polygon  56493  is different for 12 and 16\n",
      "Peano for Polygon  56493  is different for 12 and 20\n",
      "Peano for Polygon  56520  is different for 12 and 16\n",
      "Peano for Polygon  56520  is different for 12 and 20\n",
      "Peano for Polygon  56535  is different for 12 and 16\n",
      "Peano for Polygon  56535  is different for 12 and 20\n",
      "Peano for Polygon  56536  is different for 12 and 16\n",
      "Peano for Polygon  56536  is different for 12 and 20\n",
      "Peano for Polygon  56822  is different for 12 and 16\n",
      "Peano for Polygon  56822  is different for 12 and 20\n",
      "Peano for Polygon  56889  is different for 12 and 16\n",
      "Peano for Polygon  56889  is different for 12 and 20\n",
      "Peano for Polygon  56944  is different for 12 and 16\n",
      "Peano for Polygon  56944  is different for 12 and 20\n",
      "Peano for Polygon  57159  is different for 12 and 16\n",
      "Peano for Polygon  57159  is different for 12 and 20\n",
      "Peano for Polygon  57242  is different for 12 and 16\n",
      "Peano for Polygon  57242  is different for 12 and 20\n",
      "Peano for Polygon  58559  is different for 12 and 16\n",
      "Peano for Polygon  58559  is different for 12 and 20\n",
      "Peano for Polygon  58867  is different for 12 and 16\n",
      "Peano for Polygon  58867  is different for 12 and 20\n",
      "Peano for Polygon  60209  is different for 12 and 16\n",
      "Peano for Polygon  60209  is different for 12 and 20\n",
      "Peano for Polygon  61306  is different for 12 and 16\n",
      "Peano for Polygon  61306  is different for 12 and 20\n",
      "Peano for Polygon  63220  is different for 12 and 16\n",
      "Peano for Polygon  63220  is different for 12 and 20\n",
      "Peano for Polygon  63334  is different for 12 and 16\n",
      "Peano for Polygon  63334  is different for 12 and 20\n",
      "Peano for Polygon  63611  is different for 12 and 16\n",
      "Peano for Polygon  63611  is different for 12 and 20\n",
      "Peano for Polygon  65600  is different for 12 and 16\n",
      "Peano for Polygon  65600  is different for 12 and 20\n",
      "Peano for Polygon  66091  is different for 12 and 16\n",
      "Peano for Polygon  66091  is different for 12 and 20\n",
      "Peano for Polygon  69713  is different for 12 and 16\n",
      "Peano for Polygon  69713  is different for 12 and 20\n",
      "Peano for Polygon  69715  is different for 12 and 16\n",
      "Peano for Polygon  69715  is different for 12 and 20\n",
      "Peano for Polygon  69917  is different for 12 and 16\n",
      "Peano for Polygon  69917  is different for 12 and 20\n",
      "Peano for Polygon  71632  is different for 12 and 16\n",
      "Peano for Polygon  71632  is different for 12 and 20\n",
      "There is in total  69  differences for 12 and 16\n",
      "There is in total  69  differences for 12 and 20\n",
      "There is in total  0  differences for 16 and 20\n"
     ]
    }
   ],
   "source": [
    "# Task 2 Question 2\n",
    "def get_len(z_value):\n",
    "    temp=z_value.find(\"0\")\n",
    "    return len(z_value)-1 if temp==-1 else temp-1\n",
    "count_12_16=0\n",
    "count_12_20=0\n",
    "count_16_20=0\n",
    "for i,mbr in enumerate(MBR_result):\n",
    "    x_dist,y_dist=cal_dist(mbr.x_min,mbr.y_min,mbr.x_max,mbr.y_max)\n",
    "    num_12 = get_len(z_value_12[i])\n",
    "    x_12,y_12 = cal_smallest_peano(num_12, x_dist,y_dist)\n",
    "    num_16  = get_len(z_value_16[i])\n",
    "    x_16,y_16 = cal_smallest_peano(num_16, x_dist,y_dist)\n",
    "    num_20 = get_len(z_value_20[i])\n",
    "    x_20,y_20 = cal_smallest_peano(num_20, x_dist,y_dist)\n",
    "    if x_12!=x_16 or y_12!=y_16 :\n",
    "        print(\"Peano for Polygon \",i,\" is different for 12 and 16\")\n",
    "        count_12_16+=1\n",
    "    if x_12!=x_20 or y_12!=y_20:\n",
    "        print(\"Peano for Polygon \",i,\" is different for 12 and 20\")\n",
    "        count_12_20+=1\n",
    "    if x_16!=x_20 or y_16!= y_20:\n",
    "        print(\"Peano for Polygon \",i,\" is different for 16 and 20\")\n",
    "        count_16_20+=1\n",
    "print(\"There is in total \",count_12_16,\" differences for 12 and 16\")\n",
    "print(\"There is in total \",count_12_20,\" differences for 12 and 20\")\n",
    "print(\"There is in total \",count_16_20,\" differences for 16 and 20\")"
   ],
   "metadata": {
    "collapsed": false
   }
  },
  {
   "cell_type": "markdown",
   "source": [
    "**Task3 Q1**  Write a program to perform window queries using two approaches: (i) by exhaustively checking every object in the dataset; and (ii) by using z-values you generate in Task 2 for the above three n values"
   ],
   "metadata": {
    "collapsed": false
   }
  },
  {
   "cell_type": "code",
   "execution_count": 13,
   "outputs": [],
   "source": [
    "# Task 3 Question 1\n",
    "def is_contain(mbr1, mbr2):\n",
    "    return True  if mbr1.x_min >= mbr2.x_min and mbr1.x_max <= mbr2.x_max and mbr1.y_min >= mbr2.y_min and mbr1.y_max <= mbr2.y_max else False\n",
    "def is_contain_by_z(str1,str2):\n",
    "    end = str1.find(\"0\")\n",
    "    str1 = str1[0:end]\n",
    "    end = str2.find(\"0\")\n",
    "    str2 = str2[0:end]\n",
    "    if str1[0: len(str2)] == str2:\n",
    "        return True\n",
    "    else:\n",
    "        return False\n",
    "def exhaustive_check(target_mbr):\n",
    "    inside_obj=0\n",
    "    for mbr_t in MBR_result:\n",
    "        if is_contain(mbr_t,target_mbr):\n",
    "            inside_obj+=1\n",
    "    return inside_obj\n",
    "def z_value_check(z,r):\n",
    "    res_list=[]\n",
    "    target=[]\n",
    "    if r==12:\n",
    "        target=z_value_12\n",
    "    elif r==16:\n",
    "        target=z_value_16\n",
    "    elif r==20:\n",
    "        target=z_value_20\n",
    "    for j,z_t in enumerate(target):\n",
    "        if is_contain_by_z(z_t,z):\n",
    "            res_list.append(MBR_result[j])\n",
    "    return res_list\n",
    "def window_query_check(query):\n",
    "    num_obj=exhaustive_check(query)\n",
    "    z_value_q_12 = cal_z_value(12,query)\n",
    "    z_value_q_16 = cal_z_value(16,query)\n",
    "    z_value_q_20 = cal_z_value(20,query)\n",
    "    # for z value first check\n",
    "    list_obj_12 = z_value_check(z_value_q_12,12)\n",
    "    list_obj_16 = z_value_check(z_value_q_16,16)\n",
    "    list_obj_20 = z_value_check(z_value_q_20,20)\n",
    "    #check x,y coordinate\n",
    "    num_obj_12=0\n",
    "    num_obj_16=0\n",
    "    num_obj_20=0\n",
    "    for mbr_t in list_obj_12:\n",
    "        if is_contain(mbr_t,query):\n",
    "            num_obj_12+=1\n",
    "    for mbr_t in list_obj_16:\n",
    "        if is_contain(mbr_t,query):\n",
    "            num_obj_16+=1\n",
    "    for mbr_t in list_obj_20:\n",
    "        if is_contain(mbr_t,query):\n",
    "            num_obj_20+=1\n",
    "\n",
    "    print(\"There are \",num_obj,\" objects in this window query\")\n",
    "    print(\"For exhaustive search, the number of object inside is \",num_obj)\n",
    "    print(\"For z-value search (resolution=12), the number of object inside is \",num_obj_12)\n",
    "    print(\"For z-value search (resolution=16), the number of object inside is \",num_obj_16)\n",
    "    print(\"For z-value search (resolution=20), the number of object inside is \",num_obj_20)\n"
   ],
   "metadata": {
    "collapsed": false
   }
  },
  {
   "cell_type": "code",
   "execution_count": 14,
   "outputs": [
    {
     "name": "stdout",
     "output_type": "stream",
     "text": [
      "----------Window Query  1 ----------\n",
      "MBR for it:  (114.34803976073782, 22.305264437733182, 114.36755888453828, 22.484289594819895)\n",
      "There are  42  objects in this window query\n",
      "For exhaustive search, the number of object inside is  42\n",
      "For z-value search (resolution=12), the number of object inside is  42\n",
      "For z-value search (resolution=16), the number of object inside is  42\n",
      "For z-value search (resolution=20), the number of object inside is  42\n",
      "----------Window Query  2 ----------\n",
      "MBR for it:  (114.0574576081158, 22.32580105877677, 114.13592428470109, 22.406896943392578)\n",
      "There are  5229  objects in this window query\n",
      "For exhaustive search, the number of object inside is  5229\n",
      "For z-value search (resolution=12), the number of object inside is  5229\n",
      "For z-value search (resolution=16), the number of object inside is  5229\n",
      "For z-value search (resolution=20), the number of object inside is  5229\n",
      "----------Window Query  3 ----------\n",
      "MBR for it:  (113.9942817410267, 22.472219703372478, 114.36159002346929, 22.47384745122735)\n",
      "There are  442  objects in this window query\n",
      "For exhaustive search, the number of object inside is  442\n",
      "For z-value search (resolution=12), the number of object inside is  442\n",
      "For z-value search (resolution=16), the number of object inside is  442\n",
      "For z-value search (resolution=20), the number of object inside is  442\n",
      "----------Window Query  4 ----------\n",
      "MBR for it:  (114.28002371878848, 22.44208115710755, 114.34713970654344, 22.4638209382262)\n",
      "There are  54  objects in this window query\n",
      "For exhaustive search, the number of object inside is  54\n",
      "For z-value search (resolution=12), the number of object inside is  54\n",
      "For z-value search (resolution=16), the number of object inside is  54\n",
      "For z-value search (resolution=20), the number of object inside is  54\n",
      "----------Window Query  5 ----------\n",
      "MBR for it:  (114.24902395139961, 22.351051220259944, 114.33683733270418, 22.3616032904167)\n",
      "There are  68  objects in this window query\n",
      "For exhaustive search, the number of object inside is  68\n",
      "For z-value search (resolution=12), the number of object inside is  68\n",
      "For z-value search (resolution=16), the number of object inside is  68\n",
      "For z-value search (resolution=20), the number of object inside is  68\n",
      "----------Window Query  6 ----------\n",
      "MBR for it:  (114.13037524004775, 22.23874169010797, 114.2526984653297, 22.36986437420882)\n",
      "There are  28250  objects in this window query\n",
      "For exhaustive search, the number of object inside is  28250\n",
      "For z-value search (resolution=12), the number of object inside is  28250\n",
      "For z-value search (resolution=16), the number of object inside is  28250\n",
      "For z-value search (resolution=20), the number of object inside is  28250\n",
      "----------Window Query  7 ----------\n",
      "MBR for it:  (114.20586603775733, 22.354261749772437, 114.21348581688174, 22.460387840063703)\n",
      "There are  1048  objects in this window query\n",
      "For exhaustive search, the number of object inside is  1048\n",
      "For z-value search (resolution=12), the number of object inside is  1048\n",
      "For z-value search (resolution=16), the number of object inside is  1048\n",
      "For z-value search (resolution=20), the number of object inside is  1048\n",
      "----------Window Query  8 ----------\n",
      "MBR for it:  (114.08310740611331, 22.506651826995608, 114.22370175290017, 22.50680204253182)\n",
      "There are  17  objects in this window query\n",
      "For exhaustive search, the number of object inside is  17\n",
      "For z-value search (resolution=12), the number of object inside is  17\n",
      "For z-value search (resolution=16), the number of object inside is  17\n",
      "For z-value search (resolution=20), the number of object inside is  17\n",
      "----------Window Query  9 ----------\n",
      "MBR for it:  (114.24287517811149, 22.426923626666884, 114.26672334623477, 22.486852713471986)\n",
      "There are  271  objects in this window query\n",
      "For exhaustive search, the number of object inside is  271\n",
      "For z-value search (resolution=12), the number of object inside is  271\n",
      "For z-value search (resolution=16), the number of object inside is  271\n",
      "For z-value search (resolution=20), the number of object inside is  271\n",
      "----------Window Query  10 ----------\n",
      "MBR for it:  (114.1713320755026, 22.459587406473545, 114.34345955494669, 22.49479970477213)\n",
      "There are  1194  objects in this window query\n",
      "For exhaustive search, the number of object inside is  1194\n",
      "For z-value search (resolution=12), the number of object inside is  1194\n",
      "For z-value search (resolution=16), the number of object inside is  1194\n",
      "For z-value search (resolution=20), the number of object inside is  1194\n",
      "----------Window Query  11 ----------\n",
      "MBR for it:  (114.16385834931742, 22.24747510315893, 114.31623361822673, 22.438647669117746)\n",
      "There are  32047  objects in this window query\n",
      "For exhaustive search, the number of object inside is  32047\n",
      "For z-value search (resolution=12), the number of object inside is  32047\n",
      "For z-value search (resolution=16), the number of object inside is  32047\n",
      "For z-value search (resolution=20), the number of object inside is  32047\n",
      "----------Window Query  12 ----------\n",
      "MBR for it:  (114.30831052943539, 22.24115206115013, 114.32117201172305, 22.452599212703895)\n",
      "There are  59  objects in this window query\n",
      "For exhaustive search, the number of object inside is  59\n",
      "For z-value search (resolution=12), the number of object inside is  59\n",
      "For z-value search (resolution=16), the number of object inside is  59\n",
      "For z-value search (resolution=20), the number of object inside is  59\n",
      "----------Window Query  13 ----------\n",
      "MBR for it:  (114.35928942027971, 22.28500436382336, 114.37298571982598, 22.39698975328404)\n",
      "There are  26  objects in this window query\n",
      "For exhaustive search, the number of object inside is  26\n",
      "For z-value search (resolution=12), the number of object inside is  26\n",
      "For z-value search (resolution=16), the number of object inside is  26\n",
      "For z-value search (resolution=20), the number of object inside is  26\n",
      "----------Window Query  14 ----------\n",
      "MBR for it:  (114.25248760760071, 22.22173239878471, 114.34905052676537, 22.506372734854892)\n",
      "There are  5310  objects in this window query\n",
      "For exhaustive search, the number of object inside is  5310\n",
      "For z-value search (resolution=12), the number of object inside is  5310\n",
      "For z-value search (resolution=16), the number of object inside is  5310\n",
      "For z-value search (resolution=20), the number of object inside is  5310\n",
      "----------Window Query  15 ----------\n",
      "MBR for it:  (114.21526927147899, 22.347299335443267, 114.22141192474852, 22.395704388671092)\n",
      "There are  207  objects in this window query\n",
      "For exhaustive search, the number of object inside is  207\n",
      "For z-value search (resolution=12), the number of object inside is  207\n",
      "For z-value search (resolution=16), the number of object inside is  207\n",
      "For z-value search (resolution=20), the number of object inside is  207\n",
      "----------Window Query  16 ----------\n",
      "MBR for it:  (114.15006987943964, 22.35822650796052, 114.23461448375004, 22.381863437139256)\n",
      "There are  2471  objects in this window query\n",
      "For exhaustive search, the number of object inside is  2471\n",
      "For z-value search (resolution=12), the number of object inside is  2471\n",
      "For z-value search (resolution=16), the number of object inside is  2471\n",
      "For z-value search (resolution=20), the number of object inside is  2471\n",
      "----------Window Query  17 ----------\n",
      "MBR for it:  (114.36150392740824, 22.30048460628235, 114.36553894783519, 22.315285152362765)\n",
      "There are  0  objects in this window query\n",
      "For exhaustive search, the number of object inside is  0\n",
      "For z-value search (resolution=12), the number of object inside is  0\n",
      "For z-value search (resolution=16), the number of object inside is  0\n",
      "For z-value search (resolution=20), the number of object inside is  0\n",
      "----------Window Query  18 ----------\n",
      "MBR for it:  (113.98993062072842, 22.319920375501454, 114.09296906635888, 22.44792570967563)\n",
      "There are  5885  objects in this window query\n",
      "For exhaustive search, the number of object inside is  5885\n",
      "For z-value search (resolution=12), the number of object inside is  5885\n",
      "For z-value search (resolution=16), the number of object inside is  5885\n",
      "For z-value search (resolution=20), the number of object inside is  5885\n",
      "----------Window Query  19 ----------\n",
      "MBR for it:  (113.93246994626664, 22.464683122476238, 114.01353513549834, 22.48025860995871)\n",
      "There are  284  objects in this window query\n",
      "For exhaustive search, the number of object inside is  284\n",
      "For z-value search (resolution=12), the number of object inside is  284\n",
      "For z-value search (resolution=16), the number of object inside is  284\n",
      "For z-value search (resolution=20), the number of object inside is  284\n",
      "----------Window Query  20 ----------\n",
      "MBR for it:  (114.20149091959236, 22.33759661088033, 114.27503354019956, 22.4926455326067)\n",
      "There are  7559  objects in this window query\n",
      "For exhaustive search, the number of object inside is  7559\n",
      "For z-value search (resolution=12), the number of object inside is  7559\n",
      "For z-value search (resolution=16), the number of object inside is  7559\n",
      "For z-value search (resolution=20), the number of object inside is  7559\n"
     ]
    }
   ],
   "source": [
    " #Task 3 question2\n",
    "for i in range(20):\n",
    "    x_min = random.uniform(MBR_for_all.x_min,MBR_for_all.x_max)\n",
    "    x_max = random.uniform(x_min,MBR_for_all.x_max)\n",
    "    y_min = random.uniform(MBR_for_all.y_min,MBR_for_all.y_max)\n",
    "    y_max = random.uniform(y_min,MBR_for_all.y_max)\n",
    "    query=MBR(x_min, y_min, x_max, y_max)\n",
    "    print(\"----------Window Query \",i+1,\"----------\")\n",
    "    print(\"MBR for it: \",query)\n",
    "    window_query_check(query)"
   ],
   "metadata": {
    "collapsed": false
   }
  }
 ],
 "metadata": {
  "kernelspec": {
   "display_name": "Python 3",
   "language": "python",
   "name": "python3"
  },
  "language_info": {
   "codemirror_mode": {
    "name": "ipython",
    "version": 2
   },
   "file_extension": ".py",
   "mimetype": "text/x-python",
   "name": "python",
   "nbconvert_exporter": "python",
   "pygments_lexer": "ipython2",
   "version": "2.7.6"
  }
 },
 "nbformat": 4,
 "nbformat_minor": 0
}
